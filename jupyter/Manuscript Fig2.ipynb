{
 "cells": [
  {
   "cell_type": "code",
   "execution_count": 1,
   "metadata": {},
   "outputs": [],
   "source": [
    "from itertools import chain\n",
    "import pandas as pd\n",
    "from collections import defaultdict\n",
    "import re\n",
    "\n",
    "from math import floor, ceil, log10\n",
    "import numpy as np\n",
    "\n",
    "from matplotlib import pyplot as plt\n",
    "%matplotlib inline"
   ]
  },
  {
   "cell_type": "code",
   "execution_count": 2,
   "metadata": {},
   "outputs": [],
   "source": [
    "import sys\n",
    "import os\n",
    "ROOT = os.path.abspath(os.path.join(os.getcwd(), '..'))\n",
    "sys.path.append(ROOT)"
   ]
  },
  {
   "cell_type": "code",
   "execution_count": 3,
   "metadata": {},
   "outputs": [],
   "source": [
    "from gear_models.model_library import GearModelLibrary, validate_gear_types\n",
    "from gear_models.gear_mapping import gear_mapper"
   ]
  },
  {
   "cell_type": "code",
   "execution_count": 4,
   "metadata": {},
   "outputs": [
    {
     "name": "stdout",
     "output_type": "stream",
     "text": [
      "Adding effort model Fuel Economy - Sendai Bay small scale trawl\n",
      "Adding effort model Fishing Days by vessel size - Sendai Bay small scale trawl\n",
      "Adding gear intensity model small scale bottom trawl - Sendai Bay\n",
      "Adding effort model Effort intensity for 27.5x5 m gillnets in terms of square-meter-hours\n",
      "Adding gear intensity model Gear intensity for 200-mm mesh 0.7mm dia monofilament gillnets\n",
      "Adding dissipation model Gilman prioritization - Drift gillnet\n",
      "Adding dissipation model Gilman prioritization - Set and fixed gillnet\n",
      "Adding dissipation model Gilman prioritization - Purse seine \n",
      "Adding dissipation model Gilman prioritization - Seine net\n",
      "Adding dissipation model Gilman prioritization - Midwater trawl\n",
      "Adding dissipation model Gilman prioritization - Bottom trawl\n",
      "Adding dissipation model Gilman prioritization - Pots\n",
      "Adding dissipation model Gilman prioritization - Fyke net\n",
      "Adding dissipation model Gilman prioritization - Pound net\n",
      "Adding dissipation model Gilman prioritization - Tuna purse seine drifting FAD\n",
      "Adding dissipation model Gilman prioritization - Tuna purse seine anchored FAD\n",
      "Adding dissipation model Gilman prioritization - Pole-and-line anchored FAD\n",
      "Adding dissipation model Gilman prioritization - Pelagic longline\n",
      "Adding dissipation model Gilman prioritization - Demersal longline and trotline\n",
      "Adding dissipation model Gilman prioritization - Troll and pelagic handline\n",
      "Adding dissipation model Gilman prioritization - Bottom handline\n",
      "Adding dissipation model Gilman prioritization - Pole-and-line\n",
      "Adding gear intensity model Vessel length to seine weight\n",
      "Adding gear intensity model Engine size to seine weight\n",
      "Adding dissipation model Norway - Trawls - Lost to ocean\n",
      "Adding dissipation model Norway - Purse Seine - Lost to ocean\n",
      "Adding dissipation model Norway - Danish Seine - Lost to ocean\n",
      "Adding dissipation model Norway - Gillnets - Lost to ocean\n",
      "Adding dissipation model Norway - Longlines - Lost to ocean\n",
      "Adding dissipation model Norway - Pots/Traps - Lost to ocean\n",
      "Adding gear intensity model purse seine LCI - Cantabria Anchovy\n",
      "Adding gear intensity model Small scale - vessel length to gear weight\n",
      "Adding effort model Turkish driftnet CPUE\n",
      "Adding gear intensity model Turkish driftnet intensity\n",
      "Adding effort model Fishing hours - Landed catch - Chesapeake small scale trawl\n",
      "Adding effort model Effort intensity 4000-4500 hook longline vessels\n",
      "Adding gear intensity model Gear intensity for Thuunus alalunga Mediterranean longline\n",
      "Adding gear intensity model Trawl meta-model - Mediterranean - Gross Tonnage\n",
      "Adding gear intensity model Trawl meta-model - Mediterranean - Engine Power\n",
      "Adding gear intensity model Trawl meta-model - Mediterranean - Length Overall\n",
      "Adding gear intensity model Trawl meta-model - Mediterranean - Length of Head Line\n",
      "Adding effort model Landed Catch by engine capacity- Croatian Purse Seine\n",
      "Adding effort model Landed Catch by vessel LOA- Croatian Purse Seine\n",
      "Adding effort model Landed Catch by gross tonnage- Croatian Purse Seine\n",
      "Adding gear intensity model purse seine LCI - Peru Anchoveta\n",
      "Adding effort model Life Cycle Inventory - Landed Catch\n"
     ]
    }
   ],
   "source": [
    "gml = GearModelLibrary(os.path.join(ROOT, 'models'), verbose=True)"
   ]
  },
  {
   "cell_type": "code",
   "execution_count": 5,
   "metadata": {},
   "outputs": [
    {
     "name": "stdout",
     "output_type": "stream",
     "text": [
      "0: CatchEffort(Landed Catch by engine capacity- Croatian Purse Seine: 0d)[Soldo 2019]-GearIntensity(Engine size to seine weight: 0c)[Pravin 2016]-Dissipation(Gilman prioritization - Purse seine : 0c)[Gilman 2020-pre] passed\n",
      "1: CatchEffort(Landed Catch by engine capacity- Croatian Purse Seine: 0d)[Soldo 2019]-GearIntensity(Engine size to seine weight: 0c)[Pravin 2016]-Dissipation(Gilman prioritization - Seine net: 0c)[Gilman 2020-pre] passed\n",
      "2: CatchEffort(Landed Catch by engine capacity- Croatian Purse Seine: 0d)[Soldo 2019]-GearIntensity(Engine size to seine weight: 0c)[Pravin 2016]-Dissipation(Norway - Danish Seine - Lost to ocean: 0c)[Deshpande 2020] passed\n",
      "3: CatchEffort(Landed Catch by engine capacity- Croatian Purse Seine: 0d)[Soldo 2019]-GearIntensity(Engine size to seine weight: 0c)[Pravin 2016]-Dissipation(Norway - Purse Seine - Lost to ocean: 0c)[Deshpande 2020] passed\n",
      "CatchEffort(Landed Catch by engine capacity- Croatian Purse Seine: 0d)[Soldo 2019]-GearIntensity(Small scale - vessel length to gear weight: 0c)[Laissane 2011]-Dissipation(Gilman prioritization - Purse seine : 0c)[Gilman 2020-pre] ... failed ConflictingUnits: Kilowatt of engine capacity > ['Vessel length in meters']\n",
      "CatchEffort(Landed Catch by engine capacity- Croatian Purse Seine: 0d)[Soldo 2019]-GearIntensity(Small scale - vessel length to gear weight: 0c)[Laissane 2011]-Dissipation(Gilman prioritization - Seine net: 0c)[Gilman 2020-pre] ... failed ConflictingUnits: Kilowatt of engine capacity > ['Vessel length in meters']\n",
      "CatchEffort(Landed Catch by engine capacity- Croatian Purse Seine: 0d)[Soldo 2019]-GearIntensity(Small scale - vessel length to gear weight: 0c)[Laissane 2011]-Dissipation(Norway - Danish Seine - Lost to ocean: 0c)[Deshpande 2020] ... failed ConflictingUnits: Kilowatt of engine capacity > ['Vessel length in meters']\n",
      "CatchEffort(Landed Catch by engine capacity- Croatian Purse Seine: 0d)[Soldo 2019]-GearIntensity(Small scale - vessel length to gear weight: 0c)[Laissane 2011]-Dissipation(Norway - Purse Seine - Lost to ocean: 0c)[Deshpande 2020] ... failed ConflictingUnits: Kilowatt of engine capacity > ['Vessel length in meters']\n",
      "CatchEffort(Landed Catch by engine capacity- Croatian Purse Seine: 0d)[Soldo 2019]-GearIntensity(Vessel length to seine weight: 0c)[Pravin 2016]-Dissipation(Gilman prioritization - Purse seine : 0c)[Gilman 2020-pre] ... failed ConflictingUnits: Kilowatt of engine capacity > ['Vessel length in meters']\n",
      "CatchEffort(Landed Catch by engine capacity- Croatian Purse Seine: 0d)[Soldo 2019]-GearIntensity(Vessel length to seine weight: 0c)[Pravin 2016]-Dissipation(Gilman prioritization - Seine net: 0c)[Gilman 2020-pre] ... failed ConflictingUnits: Kilowatt of engine capacity > ['Vessel length in meters']\n",
      "CatchEffort(Landed Catch by engine capacity- Croatian Purse Seine: 0d)[Soldo 2019]-GearIntensity(Vessel length to seine weight: 0c)[Pravin 2016]-Dissipation(Norway - Danish Seine - Lost to ocean: 0c)[Deshpande 2020] ... failed ConflictingUnits: Kilowatt of engine capacity > ['Vessel length in meters']\n",
      "CatchEffort(Landed Catch by engine capacity- Croatian Purse Seine: 0d)[Soldo 2019]-GearIntensity(Vessel length to seine weight: 0c)[Pravin 2016]-Dissipation(Norway - Purse Seine - Lost to ocean: 0c)[Deshpande 2020] ... failed ConflictingUnits: Kilowatt of engine capacity > ['Vessel length in meters']\n",
      "CatchEffort(Landed Catch by engine capacity- Croatian Purse Seine: 0d)[Soldo 2019]-GearIntensity(purse seine LCI - Cantabria Anchovy: 0c)[Losa 2018]-Dissipation(Gilman prioritization - Purse seine : 0c)[Gilman 2020-pre] ... failed ConflictingUnits: Kilowatt of engine capacity > ['Effort for one tonne landed catch']\n",
      "CatchEffort(Landed Catch by engine capacity- Croatian Purse Seine: 0d)[Soldo 2019]-GearIntensity(purse seine LCI - Cantabria Anchovy: 0c)[Losa 2018]-Dissipation(Gilman prioritization - Seine net: 0c)[Gilman 2020-pre] ... failed ConflictingUnits: Kilowatt of engine capacity > ['Effort for one tonne landed catch']\n",
      "CatchEffort(Landed Catch by engine capacity- Croatian Purse Seine: 0d)[Soldo 2019]-GearIntensity(purse seine LCI - Cantabria Anchovy: 0c)[Losa 2018]-Dissipation(Norway - Danish Seine - Lost to ocean: 0c)[Deshpande 2020] ... failed ConflictingUnits: Kilowatt of engine capacity > ['Effort for one tonne landed catch']\n",
      "CatchEffort(Landed Catch by engine capacity- Croatian Purse Seine: 0d)[Soldo 2019]-GearIntensity(purse seine LCI - Cantabria Anchovy: 0c)[Losa 2018]-Dissipation(Norway - Purse Seine - Lost to ocean: 0c)[Deshpande 2020] ... failed ConflictingUnits: Kilowatt of engine capacity > ['Effort for one tonne landed catch']\n",
      "CatchEffort(Landed Catch by engine capacity- Croatian Purse Seine: 0d)[Soldo 2019]-GearIntensity(purse seine LCI - Peru Anchoveta: 0d)[Avadi 2014]-Dissipation(Gilman prioritization - Purse seine : 0c)[Gilman 2020-pre] ... failed ConflictingUnits: Kilowatt of engine capacity > ['Effort for one tonne landed catch']\n",
      "CatchEffort(Landed Catch by engine capacity- Croatian Purse Seine: 0d)[Soldo 2019]-GearIntensity(purse seine LCI - Peru Anchoveta: 0d)[Avadi 2014]-Dissipation(Gilman prioritization - Seine net: 0c)[Gilman 2020-pre] ... failed ConflictingUnits: Kilowatt of engine capacity > ['Effort for one tonne landed catch']\n",
      "CatchEffort(Landed Catch by engine capacity- Croatian Purse Seine: 0d)[Soldo 2019]-GearIntensity(purse seine LCI - Peru Anchoveta: 0d)[Avadi 2014]-Dissipation(Norway - Danish Seine - Lost to ocean: 0c)[Deshpande 2020] ... failed ConflictingUnits: Kilowatt of engine capacity > ['Effort for one tonne landed catch']\n",
      "CatchEffort(Landed Catch by engine capacity- Croatian Purse Seine: 0d)[Soldo 2019]-GearIntensity(purse seine LCI - Peru Anchoveta: 0d)[Avadi 2014]-Dissipation(Norway - Purse Seine - Lost to ocean: 0c)[Deshpande 2020] ... failed ConflictingUnits: Kilowatt of engine capacity > ['Effort for one tonne landed catch']\n",
      "CatchEffort(Landed Catch by gross tonnage- Croatian Purse Seine: 0d)[Soldo 2019]-GearIntensity(Engine size to seine weight: 0c)[Pravin 2016]-Dissipation(Gilman prioritization - Purse seine : 0c)[Gilman 2020-pre] ... failed ConflictingUnits: Gross Tonnage of vessel > ['Kilowatt of engine capacity']\n",
      "CatchEffort(Landed Catch by gross tonnage- Croatian Purse Seine: 0d)[Soldo 2019]-GearIntensity(Engine size to seine weight: 0c)[Pravin 2016]-Dissipation(Gilman prioritization - Seine net: 0c)[Gilman 2020-pre] ... failed ConflictingUnits: Gross Tonnage of vessel > ['Kilowatt of engine capacity']\n",
      "CatchEffort(Landed Catch by gross tonnage- Croatian Purse Seine: 0d)[Soldo 2019]-GearIntensity(Engine size to seine weight: 0c)[Pravin 2016]-Dissipation(Norway - Danish Seine - Lost to ocean: 0c)[Deshpande 2020] ... failed ConflictingUnits: Gross Tonnage of vessel > ['Kilowatt of engine capacity']\n",
      "CatchEffort(Landed Catch by gross tonnage- Croatian Purse Seine: 0d)[Soldo 2019]-GearIntensity(Engine size to seine weight: 0c)[Pravin 2016]-Dissipation(Norway - Purse Seine - Lost to ocean: 0c)[Deshpande 2020] ... failed ConflictingUnits: Gross Tonnage of vessel > ['Kilowatt of engine capacity']\n",
      "CatchEffort(Landed Catch by gross tonnage- Croatian Purse Seine: 0d)[Soldo 2019]-GearIntensity(Small scale - vessel length to gear weight: 0c)[Laissane 2011]-Dissipation(Gilman prioritization - Purse seine : 0c)[Gilman 2020-pre] ... failed ConflictingUnits: Gross Tonnage of vessel > ['Vessel length in meters']\n",
      "CatchEffort(Landed Catch by gross tonnage- Croatian Purse Seine: 0d)[Soldo 2019]-GearIntensity(Small scale - vessel length to gear weight: 0c)[Laissane 2011]-Dissipation(Gilman prioritization - Seine net: 0c)[Gilman 2020-pre] ... failed ConflictingUnits: Gross Tonnage of vessel > ['Vessel length in meters']\n",
      "CatchEffort(Landed Catch by gross tonnage- Croatian Purse Seine: 0d)[Soldo 2019]-GearIntensity(Small scale - vessel length to gear weight: 0c)[Laissane 2011]-Dissipation(Norway - Danish Seine - Lost to ocean: 0c)[Deshpande 2020] ... failed ConflictingUnits: Gross Tonnage of vessel > ['Vessel length in meters']\n",
      "CatchEffort(Landed Catch by gross tonnage- Croatian Purse Seine: 0d)[Soldo 2019]-GearIntensity(Small scale - vessel length to gear weight: 0c)[Laissane 2011]-Dissipation(Norway - Purse Seine - Lost to ocean: 0c)[Deshpande 2020] ... failed ConflictingUnits: Gross Tonnage of vessel > ['Vessel length in meters']\n",
      "CatchEffort(Landed Catch by gross tonnage- Croatian Purse Seine: 0d)[Soldo 2019]-GearIntensity(Vessel length to seine weight: 0c)[Pravin 2016]-Dissipation(Gilman prioritization - Purse seine : 0c)[Gilman 2020-pre] ... failed ConflictingUnits: Gross Tonnage of vessel > ['Vessel length in meters']\n",
      "CatchEffort(Landed Catch by gross tonnage- Croatian Purse Seine: 0d)[Soldo 2019]-GearIntensity(Vessel length to seine weight: 0c)[Pravin 2016]-Dissipation(Gilman prioritization - Seine net: 0c)[Gilman 2020-pre] ... failed ConflictingUnits: Gross Tonnage of vessel > ['Vessel length in meters']\n",
      "CatchEffort(Landed Catch by gross tonnage- Croatian Purse Seine: 0d)[Soldo 2019]-GearIntensity(Vessel length to seine weight: 0c)[Pravin 2016]-Dissipation(Norway - Danish Seine - Lost to ocean: 0c)[Deshpande 2020] ... failed ConflictingUnits: Gross Tonnage of vessel > ['Vessel length in meters']\n",
      "CatchEffort(Landed Catch by gross tonnage- Croatian Purse Seine: 0d)[Soldo 2019]-GearIntensity(Vessel length to seine weight: 0c)[Pravin 2016]-Dissipation(Norway - Purse Seine - Lost to ocean: 0c)[Deshpande 2020] ... failed ConflictingUnits: Gross Tonnage of vessel > ['Vessel length in meters']\n",
      "CatchEffort(Landed Catch by gross tonnage- Croatian Purse Seine: 0d)[Soldo 2019]-GearIntensity(purse seine LCI - Cantabria Anchovy: 0c)[Losa 2018]-Dissipation(Gilman prioritization - Purse seine : 0c)[Gilman 2020-pre] ... failed ConflictingUnits: Gross Tonnage of vessel > ['Effort for one tonne landed catch']\n",
      "CatchEffort(Landed Catch by gross tonnage- Croatian Purse Seine: 0d)[Soldo 2019]-GearIntensity(purse seine LCI - Cantabria Anchovy: 0c)[Losa 2018]-Dissipation(Gilman prioritization - Seine net: 0c)[Gilman 2020-pre] ... failed ConflictingUnits: Gross Tonnage of vessel > ['Effort for one tonne landed catch']\n",
      "CatchEffort(Landed Catch by gross tonnage- Croatian Purse Seine: 0d)[Soldo 2019]-GearIntensity(purse seine LCI - Cantabria Anchovy: 0c)[Losa 2018]-Dissipation(Norway - Danish Seine - Lost to ocean: 0c)[Deshpande 2020] ... failed ConflictingUnits: Gross Tonnage of vessel > ['Effort for one tonne landed catch']\n",
      "CatchEffort(Landed Catch by gross tonnage- Croatian Purse Seine: 0d)[Soldo 2019]-GearIntensity(purse seine LCI - Cantabria Anchovy: 0c)[Losa 2018]-Dissipation(Norway - Purse Seine - Lost to ocean: 0c)[Deshpande 2020] ... failed ConflictingUnits: Gross Tonnage of vessel > ['Effort for one tonne landed catch']\n",
      "CatchEffort(Landed Catch by gross tonnage- Croatian Purse Seine: 0d)[Soldo 2019]-GearIntensity(purse seine LCI - Peru Anchoveta: 0d)[Avadi 2014]-Dissipation(Gilman prioritization - Purse seine : 0c)[Gilman 2020-pre] ... failed ConflictingUnits: Gross Tonnage of vessel > ['Effort for one tonne landed catch']\n",
      "CatchEffort(Landed Catch by gross tonnage- Croatian Purse Seine: 0d)[Soldo 2019]-GearIntensity(purse seine LCI - Peru Anchoveta: 0d)[Avadi 2014]-Dissipation(Gilman prioritization - Seine net: 0c)[Gilman 2020-pre] ... failed ConflictingUnits: Gross Tonnage of vessel > ['Effort for one tonne landed catch']\n",
      "CatchEffort(Landed Catch by gross tonnage- Croatian Purse Seine: 0d)[Soldo 2019]-GearIntensity(purse seine LCI - Peru Anchoveta: 0d)[Avadi 2014]-Dissipation(Norway - Danish Seine - Lost to ocean: 0c)[Deshpande 2020] ... failed ConflictingUnits: Gross Tonnage of vessel > ['Effort for one tonne landed catch']\n",
      "CatchEffort(Landed Catch by gross tonnage- Croatian Purse Seine: 0d)[Soldo 2019]-GearIntensity(purse seine LCI - Peru Anchoveta: 0d)[Avadi 2014]-Dissipation(Norway - Purse Seine - Lost to ocean: 0c)[Deshpande 2020] ... failed ConflictingUnits: Gross Tonnage of vessel > ['Effort for one tonne landed catch']\n",
      "CatchEffort(Landed Catch by vessel LOA- Croatian Purse Seine: 0d)[Soldo 2019]-GearIntensity(Engine size to seine weight: 0c)[Pravin 2016]-Dissipation(Gilman prioritization - Purse seine : 0c)[Gilman 2020-pre] ... failed ConflictingUnits: Vessel length in meters > ['Kilowatt of engine capacity']\n",
      "CatchEffort(Landed Catch by vessel LOA- Croatian Purse Seine: 0d)[Soldo 2019]-GearIntensity(Engine size to seine weight: 0c)[Pravin 2016]-Dissipation(Gilman prioritization - Seine net: 0c)[Gilman 2020-pre] ... failed ConflictingUnits: Vessel length in meters > ['Kilowatt of engine capacity']\n",
      "CatchEffort(Landed Catch by vessel LOA- Croatian Purse Seine: 0d)[Soldo 2019]-GearIntensity(Engine size to seine weight: 0c)[Pravin 2016]-Dissipation(Norway - Danish Seine - Lost to ocean: 0c)[Deshpande 2020] ... failed ConflictingUnits: Vessel length in meters > ['Kilowatt of engine capacity']\n",
      "CatchEffort(Landed Catch by vessel LOA- Croatian Purse Seine: 0d)[Soldo 2019]-GearIntensity(Engine size to seine weight: 0c)[Pravin 2016]-Dissipation(Norway - Purse Seine - Lost to ocean: 0c)[Deshpande 2020] ... failed ConflictingUnits: Vessel length in meters > ['Kilowatt of engine capacity']\n",
      "4: CatchEffort(Landed Catch by vessel LOA- Croatian Purse Seine: 0d)[Soldo 2019]-GearIntensity(Small scale - vessel length to gear weight: 0c)[Laissane 2011]-Dissipation(Gilman prioritization - Purse seine : 0c)[Gilman 2020-pre] passed\n",
      "5: CatchEffort(Landed Catch by vessel LOA- Croatian Purse Seine: 0d)[Soldo 2019]-GearIntensity(Small scale - vessel length to gear weight: 0c)[Laissane 2011]-Dissipation(Gilman prioritization - Seine net: 0c)[Gilman 2020-pre] passed\n",
      "6: CatchEffort(Landed Catch by vessel LOA- Croatian Purse Seine: 0d)[Soldo 2019]-GearIntensity(Small scale - vessel length to gear weight: 0c)[Laissane 2011]-Dissipation(Norway - Danish Seine - Lost to ocean: 0c)[Deshpande 2020] passed\n",
      "7: CatchEffort(Landed Catch by vessel LOA- Croatian Purse Seine: 0d)[Soldo 2019]-GearIntensity(Small scale - vessel length to gear weight: 0c)[Laissane 2011]-Dissipation(Norway - Purse Seine - Lost to ocean: 0c)[Deshpande 2020] passed\n",
      "8: CatchEffort(Landed Catch by vessel LOA- Croatian Purse Seine: 0d)[Soldo 2019]-GearIntensity(Vessel length to seine weight: 0c)[Pravin 2016]-Dissipation(Gilman prioritization - Purse seine : 0c)[Gilman 2020-pre] passed\n",
      "9: CatchEffort(Landed Catch by vessel LOA- Croatian Purse Seine: 0d)[Soldo 2019]-GearIntensity(Vessel length to seine weight: 0c)[Pravin 2016]-Dissipation(Gilman prioritization - Seine net: 0c)[Gilman 2020-pre] passed\n",
      "10: CatchEffort(Landed Catch by vessel LOA- Croatian Purse Seine: 0d)[Soldo 2019]-GearIntensity(Vessel length to seine weight: 0c)[Pravin 2016]-Dissipation(Norway - Danish Seine - Lost to ocean: 0c)[Deshpande 2020] passed\n",
      "11: CatchEffort(Landed Catch by vessel LOA- Croatian Purse Seine: 0d)[Soldo 2019]-GearIntensity(Vessel length to seine weight: 0c)[Pravin 2016]-Dissipation(Norway - Purse Seine - Lost to ocean: 0c)[Deshpande 2020] passed\n",
      "CatchEffort(Landed Catch by vessel LOA- Croatian Purse Seine: 0d)[Soldo 2019]-GearIntensity(purse seine LCI - Cantabria Anchovy: 0c)[Losa 2018]-Dissipation(Gilman prioritization - Purse seine : 0c)[Gilman 2020-pre] ... failed ConflictingUnits: Vessel length in meters > ['Effort for one tonne landed catch']\n",
      "CatchEffort(Landed Catch by vessel LOA- Croatian Purse Seine: 0d)[Soldo 2019]-GearIntensity(purse seine LCI - Cantabria Anchovy: 0c)[Losa 2018]-Dissipation(Gilman prioritization - Seine net: 0c)[Gilman 2020-pre] ... failed ConflictingUnits: Vessel length in meters > ['Effort for one tonne landed catch']\n",
      "CatchEffort(Landed Catch by vessel LOA- Croatian Purse Seine: 0d)[Soldo 2019]-GearIntensity(purse seine LCI - Cantabria Anchovy: 0c)[Losa 2018]-Dissipation(Norway - Danish Seine - Lost to ocean: 0c)[Deshpande 2020] ... failed ConflictingUnits: Vessel length in meters > ['Effort for one tonne landed catch']\n",
      "CatchEffort(Landed Catch by vessel LOA- Croatian Purse Seine: 0d)[Soldo 2019]-GearIntensity(purse seine LCI - Cantabria Anchovy: 0c)[Losa 2018]-Dissipation(Norway - Purse Seine - Lost to ocean: 0c)[Deshpande 2020] ... failed ConflictingUnits: Vessel length in meters > ['Effort for one tonne landed catch']\n",
      "CatchEffort(Landed Catch by vessel LOA- Croatian Purse Seine: 0d)[Soldo 2019]-GearIntensity(purse seine LCI - Peru Anchoveta: 0d)[Avadi 2014]-Dissipation(Gilman prioritization - Purse seine : 0c)[Gilman 2020-pre] ... failed ConflictingUnits: Vessel length in meters > ['Effort for one tonne landed catch']\n",
      "CatchEffort(Landed Catch by vessel LOA- Croatian Purse Seine: 0d)[Soldo 2019]-GearIntensity(purse seine LCI - Peru Anchoveta: 0d)[Avadi 2014]-Dissipation(Gilman prioritization - Seine net: 0c)[Gilman 2020-pre] ... failed ConflictingUnits: Vessel length in meters > ['Effort for one tonne landed catch']\n",
      "CatchEffort(Landed Catch by vessel LOA- Croatian Purse Seine: 0d)[Soldo 2019]-GearIntensity(purse seine LCI - Peru Anchoveta: 0d)[Avadi 2014]-Dissipation(Norway - Danish Seine - Lost to ocean: 0c)[Deshpande 2020] ... failed ConflictingUnits: Vessel length in meters > ['Effort for one tonne landed catch']\n",
      "CatchEffort(Landed Catch by vessel LOA- Croatian Purse Seine: 0d)[Soldo 2019]-GearIntensity(purse seine LCI - Peru Anchoveta: 0d)[Avadi 2014]-Dissipation(Norway - Purse Seine - Lost to ocean: 0c)[Deshpande 2020] ... failed ConflictingUnits: Vessel length in meters > ['Effort for one tonne landed catch']\n",
      "CatchEffort(Life Cycle Inventory - Landed Catch: 0c)[LCI Model]-GearIntensity(Engine size to seine weight: 0c)[Pravin 2016]-Dissipation(Gilman prioritization - Purse seine : 0c)[Gilman 2020-pre] ... failed ConflictingUnits: Effort for one tonne landed catch > ['Kilowatt of engine capacity']\n",
      "CatchEffort(Life Cycle Inventory - Landed Catch: 0c)[LCI Model]-GearIntensity(Engine size to seine weight: 0c)[Pravin 2016]-Dissipation(Gilman prioritization - Seine net: 0c)[Gilman 2020-pre] ... failed ConflictingUnits: Effort for one tonne landed catch > ['Kilowatt of engine capacity']\n",
      "CatchEffort(Life Cycle Inventory - Landed Catch: 0c)[LCI Model]-GearIntensity(Engine size to seine weight: 0c)[Pravin 2016]-Dissipation(Norway - Danish Seine - Lost to ocean: 0c)[Deshpande 2020] ... failed ConflictingUnits: Effort for one tonne landed catch > ['Kilowatt of engine capacity']\n",
      "CatchEffort(Life Cycle Inventory - Landed Catch: 0c)[LCI Model]-GearIntensity(Engine size to seine weight: 0c)[Pravin 2016]-Dissipation(Norway - Purse Seine - Lost to ocean: 0c)[Deshpande 2020] ... failed ConflictingUnits: Effort for one tonne landed catch > ['Kilowatt of engine capacity']\n",
      "CatchEffort(Life Cycle Inventory - Landed Catch: 0c)[LCI Model]-GearIntensity(Small scale - vessel length to gear weight: 0c)[Laissane 2011]-Dissipation(Gilman prioritization - Purse seine : 0c)[Gilman 2020-pre] ... failed ConflictingUnits: Effort for one tonne landed catch > ['Vessel length in meters']\n",
      "CatchEffort(Life Cycle Inventory - Landed Catch: 0c)[LCI Model]-GearIntensity(Small scale - vessel length to gear weight: 0c)[Laissane 2011]-Dissipation(Gilman prioritization - Seine net: 0c)[Gilman 2020-pre] ... failed ConflictingUnits: Effort for one tonne landed catch > ['Vessel length in meters']\n",
      "CatchEffort(Life Cycle Inventory - Landed Catch: 0c)[LCI Model]-GearIntensity(Small scale - vessel length to gear weight: 0c)[Laissane 2011]-Dissipation(Norway - Danish Seine - Lost to ocean: 0c)[Deshpande 2020] ... failed ConflictingUnits: Effort for one tonne landed catch > ['Vessel length in meters']\n",
      "CatchEffort(Life Cycle Inventory - Landed Catch: 0c)[LCI Model]-GearIntensity(Small scale - vessel length to gear weight: 0c)[Laissane 2011]-Dissipation(Norway - Purse Seine - Lost to ocean: 0c)[Deshpande 2020] ... failed ConflictingUnits: Effort for one tonne landed catch > ['Vessel length in meters']\n",
      "CatchEffort(Life Cycle Inventory - Landed Catch: 0c)[LCI Model]-GearIntensity(Vessel length to seine weight: 0c)[Pravin 2016]-Dissipation(Gilman prioritization - Purse seine : 0c)[Gilman 2020-pre] ... failed ConflictingUnits: Effort for one tonne landed catch > ['Vessel length in meters']\n",
      "CatchEffort(Life Cycle Inventory - Landed Catch: 0c)[LCI Model]-GearIntensity(Vessel length to seine weight: 0c)[Pravin 2016]-Dissipation(Gilman prioritization - Seine net: 0c)[Gilman 2020-pre] ... failed ConflictingUnits: Effort for one tonne landed catch > ['Vessel length in meters']\n",
      "CatchEffort(Life Cycle Inventory - Landed Catch: 0c)[LCI Model]-GearIntensity(Vessel length to seine weight: 0c)[Pravin 2016]-Dissipation(Norway - Danish Seine - Lost to ocean: 0c)[Deshpande 2020] ... failed ConflictingUnits: Effort for one tonne landed catch > ['Vessel length in meters']\n",
      "CatchEffort(Life Cycle Inventory - Landed Catch: 0c)[LCI Model]-GearIntensity(Vessel length to seine weight: 0c)[Pravin 2016]-Dissipation(Norway - Purse Seine - Lost to ocean: 0c)[Deshpande 2020] ... failed ConflictingUnits: Effort for one tonne landed catch > ['Vessel length in meters']\n",
      "12: CatchEffort(Life Cycle Inventory - Landed Catch: 0c)[LCI Model]-GearIntensity(purse seine LCI - Cantabria Anchovy: 0c)[Losa 2018]-Dissipation(Gilman prioritization - Purse seine : 0c)[Gilman 2020-pre] passed\n",
      "13: CatchEffort(Life Cycle Inventory - Landed Catch: 0c)[LCI Model]-GearIntensity(purse seine LCI - Cantabria Anchovy: 0c)[Losa 2018]-Dissipation(Gilman prioritization - Seine net: 0c)[Gilman 2020-pre] passed\n",
      "14: CatchEffort(Life Cycle Inventory - Landed Catch: 0c)[LCI Model]-GearIntensity(purse seine LCI - Cantabria Anchovy: 0c)[Losa 2018]-Dissipation(Norway - Danish Seine - Lost to ocean: 0c)[Deshpande 2020] passed\n",
      "15: CatchEffort(Life Cycle Inventory - Landed Catch: 0c)[LCI Model]-GearIntensity(purse seine LCI - Cantabria Anchovy: 0c)[Losa 2018]-Dissipation(Norway - Purse Seine - Lost to ocean: 0c)[Deshpande 2020] passed\n",
      "16: CatchEffort(Life Cycle Inventory - Landed Catch: 0c)[LCI Model]-GearIntensity(purse seine LCI - Peru Anchoveta: 0d)[Avadi 2014]-Dissipation(Gilman prioritization - Purse seine : 0c)[Gilman 2020-pre] passed\n",
      "17: CatchEffort(Life Cycle Inventory - Landed Catch: 0c)[LCI Model]-GearIntensity(purse seine LCI - Peru Anchoveta: 0d)[Avadi 2014]-Dissipation(Gilman prioritization - Seine net: 0c)[Gilman 2020-pre] passed\n",
      "18: CatchEffort(Life Cycle Inventory - Landed Catch: 0c)[LCI Model]-GearIntensity(purse seine LCI - Peru Anchoveta: 0d)[Avadi 2014]-Dissipation(Norway - Danish Seine - Lost to ocean: 0c)[Deshpande 2020] passed\n",
      "19: CatchEffort(Life Cycle Inventory - Landed Catch: 0c)[LCI Model]-GearIntensity(purse seine LCI - Peru Anchoveta: 0d)[Avadi 2014]-Dissipation(Norway - Purse Seine - Lost to ocean: 0c)[Deshpande 2020] passed\n",
      "CatchEffort(Fishing Days by vessel size - Sendai Bay small scale trawl: 0c)[Watanabe 2016]-GearIntensity(Trawl meta-model - Mediterranean - Engine Power: 0d)[Sala 2019]-Dissipation(Gilman prioritization - Bottom trawl: 0c)[Gilman 2020-pre] ... failed ConflictingUnits: Gross Tonnage of vessel > ['Kilowatt of engine capacity']\n",
      "CatchEffort(Fishing Days by vessel size - Sendai Bay small scale trawl: 0c)[Watanabe 2016]-GearIntensity(Trawl meta-model - Mediterranean - Engine Power: 0d)[Sala 2019]-Dissipation(Gilman prioritization - Midwater trawl: 0c)[Gilman 2020-pre] ... failed ConflictingUnits: Gross Tonnage of vessel > ['Kilowatt of engine capacity']\n",
      "CatchEffort(Fishing Days by vessel size - Sendai Bay small scale trawl: 0c)[Watanabe 2016]-GearIntensity(Trawl meta-model - Mediterranean - Engine Power: 0d)[Sala 2019]-Dissipation(Norway - Trawls - Lost to ocean: 0c)[Deshpande 2020] ... failed ConflictingUnits: Gross Tonnage of vessel > ['Kilowatt of engine capacity']\n",
      "0: CatchEffort(Fishing Days by vessel size - Sendai Bay small scale trawl: 0c)[Watanabe 2016]-GearIntensity(Trawl meta-model - Mediterranean - Gross Tonnage: 0d)[Sala 2019]-Dissipation(Gilman prioritization - Bottom trawl: 0c)[Gilman 2020-pre] passed\n",
      "1: CatchEffort(Fishing Days by vessel size - Sendai Bay small scale trawl: 0c)[Watanabe 2016]-GearIntensity(Trawl meta-model - Mediterranean - Gross Tonnage: 0d)[Sala 2019]-Dissipation(Gilman prioritization - Midwater trawl: 0c)[Gilman 2020-pre] passed\n",
      "2: CatchEffort(Fishing Days by vessel size - Sendai Bay small scale trawl: 0c)[Watanabe 2016]-GearIntensity(Trawl meta-model - Mediterranean - Gross Tonnage: 0d)[Sala 2019]-Dissipation(Norway - Trawls - Lost to ocean: 0c)[Deshpande 2020] passed\n",
      "CatchEffort(Fishing Days by vessel size - Sendai Bay small scale trawl: 0c)[Watanabe 2016]-GearIntensity(Trawl meta-model - Mediterranean - Length Overall: 0d)[Sala 2019]-Dissipation(Gilman prioritization - Bottom trawl: 0c)[Gilman 2020-pre] ... failed ConflictingUnits: Gross Tonnage of vessel > ['Vessel length in meters']\n",
      "CatchEffort(Fishing Days by vessel size - Sendai Bay small scale trawl: 0c)[Watanabe 2016]-GearIntensity(Trawl meta-model - Mediterranean - Length Overall: 0d)[Sala 2019]-Dissipation(Gilman prioritization - Midwater trawl: 0c)[Gilman 2020-pre] ... failed ConflictingUnits: Gross Tonnage of vessel > ['Vessel length in meters']\n",
      "CatchEffort(Fishing Days by vessel size - Sendai Bay small scale trawl: 0c)[Watanabe 2016]-GearIntensity(Trawl meta-model - Mediterranean - Length Overall: 0d)[Sala 2019]-Dissipation(Norway - Trawls - Lost to ocean: 0c)[Deshpande 2020] ... failed ConflictingUnits: Gross Tonnage of vessel > ['Vessel length in meters']\n",
      "CatchEffort(Fishing Days by vessel size - Sendai Bay small scale trawl: 0c)[Watanabe 2016]-GearIntensity(Trawl meta-model - Mediterranean - Length of Head Line: 0d)[Sala 2019]-Dissipation(Gilman prioritization - Bottom trawl: 0c)[Gilman 2020-pre] ... failed ConflictingUnits: Gross Tonnage of vessel > ['Length of line']\n",
      "CatchEffort(Fishing Days by vessel size - Sendai Bay small scale trawl: 0c)[Watanabe 2016]-GearIntensity(Trawl meta-model - Mediterranean - Length of Head Line: 0d)[Sala 2019]-Dissipation(Gilman prioritization - Midwater trawl: 0c)[Gilman 2020-pre] ... failed ConflictingUnits: Gross Tonnage of vessel > ['Length of line']\n",
      "CatchEffort(Fishing Days by vessel size - Sendai Bay small scale trawl: 0c)[Watanabe 2016]-GearIntensity(Trawl meta-model - Mediterranean - Length of Head Line: 0d)[Sala 2019]-Dissipation(Norway - Trawls - Lost to ocean: 0c)[Deshpande 2020] ... failed ConflictingUnits: Gross Tonnage of vessel > ['Length of line']\n",
      "3: CatchEffort(Fishing Days by vessel size - Sendai Bay small scale trawl: 0c)[Watanabe 2016]-GearIntensity(small scale bottom trawl - Sendai Bay: 0c)[Watanabe 2016]-Dissipation(Gilman prioritization - Bottom trawl: 0c)[Gilman 2020-pre] passed\n",
      "4: CatchEffort(Fishing Days by vessel size - Sendai Bay small scale trawl: 0c)[Watanabe 2016]-GearIntensity(small scale bottom trawl - Sendai Bay: 0c)[Watanabe 2016]-Dissipation(Gilman prioritization - Midwater trawl: 0c)[Gilman 2020-pre] passed\n",
      "5: CatchEffort(Fishing Days by vessel size - Sendai Bay small scale trawl: 0c)[Watanabe 2016]-GearIntensity(small scale bottom trawl - Sendai Bay: 0c)[Watanabe 2016]-Dissipation(Norway - Trawls - Lost to ocean: 0c)[Deshpande 2020] passed\n",
      "CatchEffort(Fishing hours - Landed catch - Chesapeake small scale trawl: 0c)[Hoffman 2009]-GearIntensity(Trawl meta-model - Mediterranean - Engine Power: 0d)[Sala 2019]-Dissipation(Gilman prioritization - Bottom trawl: 0c)[Gilman 2020-pre] ... failed ConflictingUnits: ['Fishing hour'] > ['Year of operation']\n",
      "CatchEffort(Fishing hours - Landed catch - Chesapeake small scale trawl: 0c)[Hoffman 2009]-GearIntensity(Trawl meta-model - Mediterranean - Engine Power: 0d)[Sala 2019]-Dissipation(Gilman prioritization - Midwater trawl: 0c)[Gilman 2020-pre] ... failed ConflictingUnits: ['Fishing hour'] > ['Year of operation']\n",
      "CatchEffort(Fishing hours - Landed catch - Chesapeake small scale trawl: 0c)[Hoffman 2009]-GearIntensity(Trawl meta-model - Mediterranean - Engine Power: 0d)[Sala 2019]-Dissipation(Norway - Trawls - Lost to ocean: 0c)[Deshpande 2020] ... failed ConflictingUnits: ['Fishing hour'] > ['Gear lifetime', 'Year of operation']\n",
      "CatchEffort(Fishing hours - Landed catch - Chesapeake small scale trawl: 0c)[Hoffman 2009]-GearIntensity(Trawl meta-model - Mediterranean - Gross Tonnage: 0d)[Sala 2019]-Dissipation(Gilman prioritization - Bottom trawl: 0c)[Gilman 2020-pre] ... failed ConflictingUnits: Kilowatt of engine capacity > ['Gross Tonnage of vessel']\n",
      "CatchEffort(Fishing hours - Landed catch - Chesapeake small scale trawl: 0c)[Hoffman 2009]-GearIntensity(Trawl meta-model - Mediterranean - Gross Tonnage: 0d)[Sala 2019]-Dissipation(Gilman prioritization - Midwater trawl: 0c)[Gilman 2020-pre] ... failed ConflictingUnits: Kilowatt of engine capacity > ['Gross Tonnage of vessel']\n",
      "CatchEffort(Fishing hours - Landed catch - Chesapeake small scale trawl: 0c)[Hoffman 2009]-GearIntensity(Trawl meta-model - Mediterranean - Gross Tonnage: 0d)[Sala 2019]-Dissipation(Norway - Trawls - Lost to ocean: 0c)[Deshpande 2020] ... failed ConflictingUnits: Kilowatt of engine capacity > ['Gross Tonnage of vessel']\n",
      "CatchEffort(Fishing hours - Landed catch - Chesapeake small scale trawl: 0c)[Hoffman 2009]-GearIntensity(Trawl meta-model - Mediterranean - Length Overall: 0d)[Sala 2019]-Dissipation(Gilman prioritization - Bottom trawl: 0c)[Gilman 2020-pre] ... failed ConflictingUnits: Kilowatt of engine capacity > ['Vessel length in meters']\n",
      "CatchEffort(Fishing hours - Landed catch - Chesapeake small scale trawl: 0c)[Hoffman 2009]-GearIntensity(Trawl meta-model - Mediterranean - Length Overall: 0d)[Sala 2019]-Dissipation(Gilman prioritization - Midwater trawl: 0c)[Gilman 2020-pre] ... failed ConflictingUnits: Kilowatt of engine capacity > ['Vessel length in meters']\n",
      "CatchEffort(Fishing hours - Landed catch - Chesapeake small scale trawl: 0c)[Hoffman 2009]-GearIntensity(Trawl meta-model - Mediterranean - Length Overall: 0d)[Sala 2019]-Dissipation(Norway - Trawls - Lost to ocean: 0c)[Deshpande 2020] ... failed ConflictingUnits: Kilowatt of engine capacity > ['Vessel length in meters']\n",
      "CatchEffort(Fishing hours - Landed catch - Chesapeake small scale trawl: 0c)[Hoffman 2009]-GearIntensity(Trawl meta-model - Mediterranean - Length of Head Line: 0d)[Sala 2019]-Dissipation(Gilman prioritization - Bottom trawl: 0c)[Gilman 2020-pre] ... failed ConflictingUnits: Kilowatt of engine capacity > ['Length of line']\n",
      "CatchEffort(Fishing hours - Landed catch - Chesapeake small scale trawl: 0c)[Hoffman 2009]-GearIntensity(Trawl meta-model - Mediterranean - Length of Head Line: 0d)[Sala 2019]-Dissipation(Gilman prioritization - Midwater trawl: 0c)[Gilman 2020-pre] ... failed ConflictingUnits: Kilowatt of engine capacity > ['Length of line']\n",
      "CatchEffort(Fishing hours - Landed catch - Chesapeake small scale trawl: 0c)[Hoffman 2009]-GearIntensity(Trawl meta-model - Mediterranean - Length of Head Line: 0d)[Sala 2019]-Dissipation(Norway - Trawls - Lost to ocean: 0c)[Deshpande 2020] ... failed ConflictingUnits: Kilowatt of engine capacity > ['Length of line']\n",
      "CatchEffort(Fishing hours - Landed catch - Chesapeake small scale trawl: 0c)[Hoffman 2009]-GearIntensity(small scale bottom trawl - Sendai Bay: 0c)[Watanabe 2016]-Dissipation(Gilman prioritization - Bottom trawl: 0c)[Gilman 2020-pre] ... failed ConflictingUnits: Kilowatt of engine capacity > ['Gross Tonnage of vessel']\n",
      "CatchEffort(Fishing hours - Landed catch - Chesapeake small scale trawl: 0c)[Hoffman 2009]-GearIntensity(small scale bottom trawl - Sendai Bay: 0c)[Watanabe 2016]-Dissipation(Gilman prioritization - Midwater trawl: 0c)[Gilman 2020-pre] ... failed ConflictingUnits: Kilowatt of engine capacity > ['Gross Tonnage of vessel']\n",
      "CatchEffort(Fishing hours - Landed catch - Chesapeake small scale trawl: 0c)[Hoffman 2009]-GearIntensity(small scale bottom trawl - Sendai Bay: 0c)[Watanabe 2016]-Dissipation(Norway - Trawls - Lost to ocean: 0c)[Deshpande 2020] ... failed ConflictingUnits: Kilowatt of engine capacity > ['Gross Tonnage of vessel']\n",
      "6: CatchEffort(Fuel Economy - Sendai Bay small scale trawl: 0c)[Watanabe 2016]-GearIntensity(Trawl meta-model - Mediterranean - Engine Power: 0d)[Sala 2019]-Dissipation(Gilman prioritization - Bottom trawl: 0c)[Gilman 2020-pre] passed\n",
      "7: CatchEffort(Fuel Economy - Sendai Bay small scale trawl: 0c)[Watanabe 2016]-GearIntensity(Trawl meta-model - Mediterranean - Engine Power: 0d)[Sala 2019]-Dissipation(Gilman prioritization - Midwater trawl: 0c)[Gilman 2020-pre] passed\n",
      "8: CatchEffort(Fuel Economy - Sendai Bay small scale trawl: 0c)[Watanabe 2016]-GearIntensity(Trawl meta-model - Mediterranean - Engine Power: 0d)[Sala 2019]-Dissipation(Norway - Trawls - Lost to ocean: 0c)[Deshpande 2020] passed\n",
      "CatchEffort(Fuel Economy - Sendai Bay small scale trawl: 0c)[Watanabe 2016]-GearIntensity(Trawl meta-model - Mediterranean - Gross Tonnage: 0d)[Sala 2019]-Dissipation(Gilman prioritization - Bottom trawl: 0c)[Gilman 2020-pre] ... failed ConflictingUnits: Kilowatt of engine capacity > ['Gross Tonnage of vessel']\n",
      "CatchEffort(Fuel Economy - Sendai Bay small scale trawl: 0c)[Watanabe 2016]-GearIntensity(Trawl meta-model - Mediterranean - Gross Tonnage: 0d)[Sala 2019]-Dissipation(Gilman prioritization - Midwater trawl: 0c)[Gilman 2020-pre] ... failed ConflictingUnits: Kilowatt of engine capacity > ['Gross Tonnage of vessel']\n",
      "CatchEffort(Fuel Economy - Sendai Bay small scale trawl: 0c)[Watanabe 2016]-GearIntensity(Trawl meta-model - Mediterranean - Gross Tonnage: 0d)[Sala 2019]-Dissipation(Norway - Trawls - Lost to ocean: 0c)[Deshpande 2020] ... failed ConflictingUnits: Kilowatt of engine capacity > ['Gross Tonnage of vessel']\n",
      "CatchEffort(Fuel Economy - Sendai Bay small scale trawl: 0c)[Watanabe 2016]-GearIntensity(Trawl meta-model - Mediterranean - Length Overall: 0d)[Sala 2019]-Dissipation(Gilman prioritization - Bottom trawl: 0c)[Gilman 2020-pre] ... failed ConflictingUnits: Kilowatt of engine capacity > ['Vessel length in meters']\n",
      "CatchEffort(Fuel Economy - Sendai Bay small scale trawl: 0c)[Watanabe 2016]-GearIntensity(Trawl meta-model - Mediterranean - Length Overall: 0d)[Sala 2019]-Dissipation(Gilman prioritization - Midwater trawl: 0c)[Gilman 2020-pre] ... failed ConflictingUnits: Kilowatt of engine capacity > ['Vessel length in meters']\n",
      "CatchEffort(Fuel Economy - Sendai Bay small scale trawl: 0c)[Watanabe 2016]-GearIntensity(Trawl meta-model - Mediterranean - Length Overall: 0d)[Sala 2019]-Dissipation(Norway - Trawls - Lost to ocean: 0c)[Deshpande 2020] ... failed ConflictingUnits: Kilowatt of engine capacity > ['Vessel length in meters']\n",
      "CatchEffort(Fuel Economy - Sendai Bay small scale trawl: 0c)[Watanabe 2016]-GearIntensity(Trawl meta-model - Mediterranean - Length of Head Line: 0d)[Sala 2019]-Dissipation(Gilman prioritization - Bottom trawl: 0c)[Gilman 2020-pre] ... failed ConflictingUnits: Kilowatt of engine capacity > ['Length of line']\n",
      "CatchEffort(Fuel Economy - Sendai Bay small scale trawl: 0c)[Watanabe 2016]-GearIntensity(Trawl meta-model - Mediterranean - Length of Head Line: 0d)[Sala 2019]-Dissipation(Gilman prioritization - Midwater trawl: 0c)[Gilman 2020-pre] ... failed ConflictingUnits: Kilowatt of engine capacity > ['Length of line']\n",
      "CatchEffort(Fuel Economy - Sendai Bay small scale trawl: 0c)[Watanabe 2016]-GearIntensity(Trawl meta-model - Mediterranean - Length of Head Line: 0d)[Sala 2019]-Dissipation(Norway - Trawls - Lost to ocean: 0c)[Deshpande 2020] ... failed ConflictingUnits: Kilowatt of engine capacity > ['Length of line']\n",
      "CatchEffort(Fuel Economy - Sendai Bay small scale trawl: 0c)[Watanabe 2016]-GearIntensity(small scale bottom trawl - Sendai Bay: 0c)[Watanabe 2016]-Dissipation(Gilman prioritization - Bottom trawl: 0c)[Gilman 2020-pre] ... failed ConflictingUnits: Kilowatt of engine capacity > ['Gross Tonnage of vessel']\n",
      "CatchEffort(Fuel Economy - Sendai Bay small scale trawl: 0c)[Watanabe 2016]-GearIntensity(small scale bottom trawl - Sendai Bay: 0c)[Watanabe 2016]-Dissipation(Gilman prioritization - Midwater trawl: 0c)[Gilman 2020-pre] ... failed ConflictingUnits: Kilowatt of engine capacity > ['Gross Tonnage of vessel']\n",
      "CatchEffort(Fuel Economy - Sendai Bay small scale trawl: 0c)[Watanabe 2016]-GearIntensity(small scale bottom trawl - Sendai Bay: 0c)[Watanabe 2016]-Dissipation(Norway - Trawls - Lost to ocean: 0c)[Deshpande 2020] ... failed ConflictingUnits: Kilowatt of engine capacity > ['Gross Tonnage of vessel']\n",
      "CatchEffort(Life Cycle Inventory - Landed Catch: 0c)[LCI Model]-GearIntensity(Trawl meta-model - Mediterranean - Engine Power: 0d)[Sala 2019]-Dissipation(Gilman prioritization - Bottom trawl: 0c)[Gilman 2020-pre] ... failed ConflictingUnits: Effort for one tonne landed catch > ['Kilowatt of engine capacity']\n",
      "CatchEffort(Life Cycle Inventory - Landed Catch: 0c)[LCI Model]-GearIntensity(Trawl meta-model - Mediterranean - Engine Power: 0d)[Sala 2019]-Dissipation(Gilman prioritization - Midwater trawl: 0c)[Gilman 2020-pre] ... failed ConflictingUnits: Effort for one tonne landed catch > ['Kilowatt of engine capacity']\n",
      "CatchEffort(Life Cycle Inventory - Landed Catch: 0c)[LCI Model]-GearIntensity(Trawl meta-model - Mediterranean - Engine Power: 0d)[Sala 2019]-Dissipation(Norway - Trawls - Lost to ocean: 0c)[Deshpande 2020] ... failed ConflictingUnits: Effort for one tonne landed catch > ['Kilowatt of engine capacity']\n",
      "CatchEffort(Life Cycle Inventory - Landed Catch: 0c)[LCI Model]-GearIntensity(Trawl meta-model - Mediterranean - Gross Tonnage: 0d)[Sala 2019]-Dissipation(Gilman prioritization - Bottom trawl: 0c)[Gilman 2020-pre] ... failed ConflictingUnits: Effort for one tonne landed catch > ['Gross Tonnage of vessel']\n",
      "CatchEffort(Life Cycle Inventory - Landed Catch: 0c)[LCI Model]-GearIntensity(Trawl meta-model - Mediterranean - Gross Tonnage: 0d)[Sala 2019]-Dissipation(Gilman prioritization - Midwater trawl: 0c)[Gilman 2020-pre] ... failed ConflictingUnits: Effort for one tonne landed catch > ['Gross Tonnage of vessel']\n",
      "CatchEffort(Life Cycle Inventory - Landed Catch: 0c)[LCI Model]-GearIntensity(Trawl meta-model - Mediterranean - Gross Tonnage: 0d)[Sala 2019]-Dissipation(Norway - Trawls - Lost to ocean: 0c)[Deshpande 2020] ... failed ConflictingUnits: Effort for one tonne landed catch > ['Gross Tonnage of vessel']\n",
      "CatchEffort(Life Cycle Inventory - Landed Catch: 0c)[LCI Model]-GearIntensity(Trawl meta-model - Mediterranean - Length Overall: 0d)[Sala 2019]-Dissipation(Gilman prioritization - Bottom trawl: 0c)[Gilman 2020-pre] ... failed ConflictingUnits: Effort for one tonne landed catch > ['Vessel length in meters']\n",
      "CatchEffort(Life Cycle Inventory - Landed Catch: 0c)[LCI Model]-GearIntensity(Trawl meta-model - Mediterranean - Length Overall: 0d)[Sala 2019]-Dissipation(Gilman prioritization - Midwater trawl: 0c)[Gilman 2020-pre] ... failed ConflictingUnits: Effort for one tonne landed catch > ['Vessel length in meters']\n",
      "CatchEffort(Life Cycle Inventory - Landed Catch: 0c)[LCI Model]-GearIntensity(Trawl meta-model - Mediterranean - Length Overall: 0d)[Sala 2019]-Dissipation(Norway - Trawls - Lost to ocean: 0c)[Deshpande 2020] ... failed ConflictingUnits: Effort for one tonne landed catch > ['Vessel length in meters']\n",
      "CatchEffort(Life Cycle Inventory - Landed Catch: 0c)[LCI Model]-GearIntensity(Trawl meta-model - Mediterranean - Length of Head Line: 0d)[Sala 2019]-Dissipation(Gilman prioritization - Bottom trawl: 0c)[Gilman 2020-pre] ... failed ConflictingUnits: Effort for one tonne landed catch > ['Length of line']\n",
      "CatchEffort(Life Cycle Inventory - Landed Catch: 0c)[LCI Model]-GearIntensity(Trawl meta-model - Mediterranean - Length of Head Line: 0d)[Sala 2019]-Dissipation(Gilman prioritization - Midwater trawl: 0c)[Gilman 2020-pre] ... failed ConflictingUnits: Effort for one tonne landed catch > ['Length of line']\n",
      "CatchEffort(Life Cycle Inventory - Landed Catch: 0c)[LCI Model]-GearIntensity(Trawl meta-model - Mediterranean - Length of Head Line: 0d)[Sala 2019]-Dissipation(Norway - Trawls - Lost to ocean: 0c)[Deshpande 2020] ... failed ConflictingUnits: Effort for one tonne landed catch > ['Length of line']\n",
      "CatchEffort(Life Cycle Inventory - Landed Catch: 0c)[LCI Model]-GearIntensity(small scale bottom trawl - Sendai Bay: 0c)[Watanabe 2016]-Dissipation(Gilman prioritization - Bottom trawl: 0c)[Gilman 2020-pre] ... failed ConflictingUnits: Effort for one tonne landed catch > ['Gross Tonnage of vessel']\n",
      "CatchEffort(Life Cycle Inventory - Landed Catch: 0c)[LCI Model]-GearIntensity(small scale bottom trawl - Sendai Bay: 0c)[Watanabe 2016]-Dissipation(Gilman prioritization - Midwater trawl: 0c)[Gilman 2020-pre] ... failed ConflictingUnits: Effort for one tonne landed catch > ['Gross Tonnage of vessel']\n",
      "CatchEffort(Life Cycle Inventory - Landed Catch: 0c)[LCI Model]-GearIntensity(small scale bottom trawl - Sendai Bay: 0c)[Watanabe 2016]-Dissipation(Norway - Trawls - Lost to ocean: 0c)[Deshpande 2020] ... failed ConflictingUnits: Effort for one tonne landed catch > ['Gross Tonnage of vessel']\n",
      "0: CatchEffort(Effort intensity for 27.5x5 m gillnets in terms of square-meter-hours: 0c)[Grimaldo 2019]-GearIntensity(Gear intensity for 200-mm mesh 0.7mm dia monofilament gillnets: 0c)[Grimaldo 2019]-Dissipation(Gilman prioritization - Set and fixed gillnet: 0c)[Gilman 2020-pre] passed\n",
      "1: CatchEffort(Effort intensity for 27.5x5 m gillnets in terms of square-meter-hours: 0c)[Grimaldo 2019]-GearIntensity(Gear intensity for 200-mm mesh 0.7mm dia monofilament gillnets: 0c)[Grimaldo 2019]-Dissipation(Norway - Gillnets - Lost to ocean: 0c)[Deshpande 2020] passed\n",
      "CatchEffort(Life Cycle Inventory - Landed Catch: 0c)[LCI Model]-GearIntensity(Gear intensity for 200-mm mesh 0.7mm dia monofilament gillnets: 0c)[Grimaldo 2019]-Dissipation(Gilman prioritization - Set and fixed gillnet: 0c)[Gilman 2020-pre] ... failed ConflictingUnits: Effort for one tonne landed catch > ['Square meter of net']\n",
      "CatchEffort(Life Cycle Inventory - Landed Catch: 0c)[LCI Model]-GearIntensity(Gear intensity for 200-mm mesh 0.7mm dia monofilament gillnets: 0c)[Grimaldo 2019]-Dissipation(Norway - Gillnets - Lost to ocean: 0c)[Deshpande 2020] ... failed ConflictingUnits: Effort for one tonne landed catch > ['Square meter of net']\n",
      "0: CatchEffort(Effort intensity 4000-4500 hook longline vessels: 0c)[Gabr 2012]-GearIntensity(Gear intensity for Thuunus alalunga Mediterranean longline: 0c)[Gabr 2012]-Dissipation(Gilman prioritization - Pelagic longline: 0c)[Gilman 2020-pre] passed\n",
      "1: CatchEffort(Effort intensity 4000-4500 hook longline vessels: 0c)[Gabr 2012]-GearIntensity(Gear intensity for Thuunus alalunga Mediterranean longline: 0c)[Gabr 2012]-Dissipation(Norway - Longlines - Lost to ocean: 0c)[Deshpande 2020] passed\n",
      "CatchEffort(Life Cycle Inventory - Landed Catch: 0c)[LCI Model]-GearIntensity(Gear intensity for Thuunus alalunga Mediterranean longline: 0c)[Gabr 2012]-Dissipation(Gilman prioritization - Pelagic longline: 0c)[Gilman 2020-pre] ... failed ConflictingUnits: Effort for one tonne landed catch > ['Vessel length in meters', 'Kilowatt of engine capacity', 'Number of hooks']\n",
      "CatchEffort(Life Cycle Inventory - Landed Catch: 0c)[LCI Model]-GearIntensity(Gear intensity for Thuunus alalunga Mediterranean longline: 0c)[Gabr 2012]-Dissipation(Norway - Longlines - Lost to ocean: 0c)[Deshpande 2020] ... failed ConflictingUnits: Effort for one tonne landed catch > ['Vessel length in meters', 'Kilowatt of engine capacity', 'Number of hooks']\n",
      "CatchEffort(Life Cycle Inventory - Landed Catch: 0c)[LCI Model]-GearIntensity(Turkish driftnet intensity: 0c)[Akyol 2012]-Dissipation(Gilman prioritization - Drift gillnet: 0c)[Gilman 2020-pre] ... failed ConflictingUnits: Effort for one tonne landed catch > ['Vessel length in meters', 'Gross Tonnage of vessel', 'Kilowatt of engine capacity', 'kilometer of net']\n",
      "CatchEffort(Life Cycle Inventory - Landed Catch: 0c)[LCI Model]-GearIntensity(Turkish driftnet intensity: 0c)[Akyol 2012]-Dissipation(Norway - Gillnets - Lost to ocean: 0c)[Deshpande 2020] ... failed ConflictingUnits: Effort for one tonne landed catch > ['Vessel length in meters', 'Gross Tonnage of vessel', 'Kilowatt of engine capacity', 'kilometer of net']\n",
      "0: CatchEffort(Turkish driftnet CPUE: 0c)[Akyol 2012]-GearIntensity(Turkish driftnet intensity: 0c)[Akyol 2012]-Dissipation(Gilman prioritization - Drift gillnet: 0c)[Gilman 2020-pre] passed\n",
      "1: CatchEffort(Turkish driftnet CPUE: 0c)[Akyol 2012]-GearIntensity(Turkish driftnet intensity: 0c)[Akyol 2012]-Dissipation(Norway - Gillnets - Lost to ocean: 0c)[Deshpande 2020] passed\n"
     ]
    }
   ],
   "source": [
    "sein = list(gml.valid_models({'GFWCategory': 'seiners'}))\n",
    "trwl = list(gml.valid_models({'GFWCategory': 'trawlers'}))\n",
    "pasv = list(gml.valid_models({\"GilmanGear25Code\": \"GNS\"})) + list(gml.valid_models({\"GilmanGear25Code\": \"LLP\"})) + list(gml.valid_models({\"FAOGearAbbrev\": \"GND\"}))"
   ]
  },
  {
   "cell_type": "code",
   "execution_count": 6,
   "metadata": {},
   "outputs": [
    {
     "data": {
      "text/plain": [
       "20"
      ]
     },
     "execution_count": 6,
     "metadata": {},
     "output_type": "execute_result"
    }
   ],
   "source": [
    "len(sein)\n"
   ]
  },
  {
   "cell_type": "code",
   "execution_count": 7,
   "metadata": {},
   "outputs": [
    {
     "data": {
      "text/plain": [
       "9"
      ]
     },
     "execution_count": 7,
     "metadata": {},
     "output_type": "execute_result"
    }
   ],
   "source": [
    "len(trwl)"
   ]
  },
  {
   "cell_type": "code",
   "execution_count": 8,
   "metadata": {},
   "outputs": [
    {
     "data": {
      "text/plain": [
       "6"
      ]
     },
     "execution_count": 8,
     "metadata": {},
     "output_type": "execute_result"
    }
   ],
   "source": [
    "len(pasv)"
   ]
  },
  {
   "cell_type": "code",
   "execution_count": 9,
   "metadata": {},
   "outputs": [],
   "source": [
    "for p in pasv:\n",
    "    lbl = next(next(gear_mapper.equivs(k, v) for k, v in p._e.gear_types.items()))['GilmanGear25Description']\n",
    "    p.label = lbl + '-' + p.family[2]"
   ]
  },
  {
   "cell_type": "code",
   "execution_count": 10,
   "metadata": {},
   "outputs": [],
   "source": [
    "models = [('Seiners', sein), ('Trawlers', trwl), ('Passive Gear', pasv)]"
   ]
  },
  {
   "cell_type": "code",
   "execution_count": 11,
   "metadata": {},
   "outputs": [],
   "source": [
    "def write_models(mod_list, xlsfile=\"model_parameters.xlsx\"):\n",
    "    xlw = pd.ExcelWriter(xlsfile)\n",
    "    for name, arg in mod_list:\n",
    "        df = pd.DataFrame(list(chain(*[k.report() for k in arg])))\n",
    "        df.to_excel(xlw, sheet_name=name)\n",
    "    xlw.save()    \n"
   ]
  },
  {
   "cell_type": "code",
   "execution_count": 12,
   "metadata": {},
   "outputs": [],
   "source": [
    "write_models(models)"
   ]
  },
  {
   "cell_type": "code",
   "execution_count": 13,
   "metadata": {},
   "outputs": [],
   "source": [
    "# Run Monte Carlo simulation\n",
    "results = []\n",
    "for name, arg in models:\n",
    "    _r = defaultdict(list)\n",
    "    for m in arg:\n",
    "        _r[m.label].extend([m.sample() for i in range(1000)])\n",
    "    results.append((name, _r))"
   ]
  },
  {
   "cell_type": "code",
   "execution_count": 62,
   "metadata": {},
   "outputs": [],
   "source": [
    "def make_polyhist(ax, dat, title='fishing gear'):\n",
    "    \n",
    "    for k, v in dat.items():\n",
    "        rat = max(v) / min(v)\n",
    "        nbins = floor(40*log10(rat))\n",
    "        #nbins=40\n",
    "        _, b = np.histogram(v, nbins)\n",
    "        logbins = np.logspace(np.log10(b[0]),np.log10(b[-1]),len(b))\n",
    "\n",
    "        plt.hist(v, bins=logbins, alpha=0.7, label=k)\n",
    "    ax.set_yticks([])\n",
    "    ax.set_xscale('log')\n",
    "    #ax.set_xlabel('Gear dissipation (kg/t catch)')\n",
    "    ax.set_ylabel('')\n",
    "    ax.set_title(title)\n",
    "    ax.legend(fontsize=8)\n",
    "    \n",
    "def make_gear_model_plot(res, title='fishing gear', savefig=True):\n",
    "    n = len(res)\n",
    "    fig = plt.figure(figsize=(10,3 * n))\n",
    "    min_x = None\n",
    "    max_x = None\n",
    "    axs = []\n",
    "    for i in range(len(res)):\n",
    "        name, _r = res[i]\n",
    "        ax = fig.add_subplot(3,1,i+1)\n",
    "        axs.append(ax)\n",
    "        make_polyhist(ax, _r, title=name)\n",
    "        _mn, _mx = ax.get_xlim()\n",
    "        if min_x is None or _mn < min_x:\n",
    "            min_x = _mn\n",
    "        if max_x is None or _mx > max_x:\n",
    "            max_x = _mx\n",
    "    for ax in axs:\n",
    "        ax.set_xlim([min_x, max_x])\n",
    "    axs[-1].set_xlabel('Gear dissipation (kg gear/tonne catch)')\n",
    "    \n",
    "    if savefig:\n",
    "        plt.savefig(title+'.pdf', format='pdf', bbox_inches='tight', transparent=True)"
   ]
  },
  {
   "cell_type": "code",
   "execution_count": 63,
   "metadata": {},
   "outputs": [
    {
     "data": {
      "image/png": "[encoded data removed]",
      "text/plain": [
       "<Figure size 720x648 with 3 Axes>"
      ]
     },
     "metadata": {
      "needs_background": "light"
     },
     "output_type": "display_data"
    }
   ],
   "source": [
    "make_gear_model_plot(results)"
   ]
  },
  {
   "cell_type": "code",
   "execution_count": 16,
   "metadata": {},
   "outputs": [],
   "source": [
    "# Run Monte Carlo simulation -- breaking out each stage as a separate dataset\n",
    "internals = {'effort': defaultdict(list), 'gear': defaultdict(list), 'dissipation': defaultdict(list)}\n",
    "mmap = dict()\n",
    "for name, arg in models:\n",
    "    for m in arg:\n",
    "        internals['effort'][m.label].extend([m.e_tilde() * m.op_factor for i in range(1000)])\n",
    "        internals['gear'][m.label].extend([m.g_tilde() * m.scaling_factor for i in range(1000)])\n",
    "        internals['dissipation'][m.label].extend([m.d_tilde() for i in range(1000)])\n",
    "        mmap[m.label] = m\n"
   ]
  },
  {
   "cell_type": "code",
   "execution_count": 17,
   "metadata": {},
   "outputs": [
    {
     "data": {
      "text/plain": [
       "{'Soldo 2019-Pravin 2016-Gilman 2020-pre': <gear_models.query.GearModel at 0x7fbd8aee0ee0>,\n",
       " 'Soldo 2019-Pravin 2016-Deshpande 2020': <gear_models.query.GearModel at 0x7fbd8aee6160>,\n",
       " 'Soldo 2019-Laissane 2011-Gilman 2020-pre': <gear_models.query.GearModel at 0x7fbd8aee0a60>,\n",
       " 'Soldo 2019-Laissane 2011-Deshpande 2020': <gear_models.query.GearModel at 0x7fbd8aee0ca0>,\n",
       " 'LCI Model-Losa 2018-Gilman 2020-pre': <gear_models.query.GearModel at 0x7fbd8aee9280>,\n",
       " 'LCI Model-Losa 2018-Deshpande 2020': <gear_models.query.GearModel at 0x7fbd8aee94c0>,\n",
       " 'LCI Model-Avadi 2014-Gilman 2020-pre': <gear_models.query.GearModel at 0x7fbd8aee9700>,\n",
       " 'LCI Model-Avadi 2014-Deshpande 2020': <gear_models.query.GearModel at 0x7fbd8aee9940>,\n",
       " 'Watanabe 2016-Sala 2019-Gilman 2020-pre': <gear_models.query.GearModel at 0x7fbd8aef5460>,\n",
       " 'Watanabe 2016-Sala 2019-Deshpande 2020': <gear_models.query.GearModel at 0x7fbd8aef5580>,\n",
       " 'Watanabe 2016-Gilman 2020-pre': <gear_models.query.GearModel at 0x7fbd8aeef580>,\n",
       " 'Watanabe 2016-Deshpande 2020': <gear_models.query.GearModel at 0x7fbd8aeef6a0>,\n",
       " 'Surface & Bottom Set Gillnet -Gilman 2020-pre': <gear_models.query.GearModel at 0x7fbd8aef56a0>,\n",
       " 'Surface & Bottom Set Gillnet -Deshpande 2020': <gear_models.query.GearModel at 0x7fbd8aef9be0>,\n",
       " 'Longlines - pelagic-Gilman 2020-pre': <gear_models.query.GearModel at 0x7fbd8aef5ee0>,\n",
       " 'Longlines - pelagic-Deshpande 2020': <gear_models.query.GearModel at 0x7fbd8aef5dc0>,\n",
       " 'Pelagic gillnets-Gilman 2020-pre': <gear_models.query.GearModel at 0x7fbd8aef5f40>,\n",
       " 'Pelagic gillnets-Deshpande 2020': <gear_models.query.GearModel at 0x7fbd8aef5910>}"
      ]
     },
     "execution_count": 17,
     "metadata": {},
     "output_type": "execute_result"
    }
   ],
   "source": [
    "mmap"
   ]
  },
  {
   "cell_type": "code",
   "execution_count": 18,
   "metadata": {},
   "outputs": [],
   "source": [
    "def _p_20_80(_dat):\n",
    "    j = sorted(_dat)\n",
    "    l = len(j)\n",
    "    return j[floor(l*0.2)], j[ceil(l*0.8)]"
   ]
  },
  {
   "cell_type": "code",
   "execution_count": 19,
   "metadata": {},
   "outputs": [],
   "source": [
    "def _model_performance(_nam):\n",
    "    _gt, _rd = next((k, v) for k, v in results if _nam in v)\n",
    "    # _ge_nam = re.sub('-+(Gil.*$)|(Desh.*$)', '', _nam)\n",
    "    fam = mmap[_nam].family\n",
    "    _ge_nam = fam[0]\n",
    "    if fam[1] == fam[0]:\n",
    "        _ge_nam = fam[0]\n",
    "    else:\n",
    "        _ge_nam = '%s-%s' % (fam[:2])\n",
    "    _gt_nam = re.sub(' .*$', '', _gt)\n",
    "    return({\n",
    "        'Model': _ge_nam,\n",
    "        'Gear type': _gt_nam,\n",
    "        'Effort-20-80': '%.3g--%.3g' % _p_20_80(internals['effort'][_nam]),\n",
    "        'Gear-20-80': '%.3g--%.3g' % _p_20_80(internals['gear'][_nam]),\n",
    "        'Dissip.': fam[2][0],\n",
    "        'pct-20-80': '%.3g--%.3g' % tuple(100 * k for k in _p_20_80(internals['dissipation'][_nam])),\n",
    "        'Result-20-80': '%.3g--%.3g' % _p_20_80(_rd[_nam]),\n",
    "    })"
   ]
  },
  {
   "cell_type": "code",
   "execution_count": 20,
   "metadata": {},
   "outputs": [],
   "source": [
    "table_2 = pd.DataFrame([_model_performance(m) for m in mmap.keys()])"
   ]
  },
  {
   "cell_type": "code",
   "execution_count": 21,
   "metadata": {},
   "outputs": [
    {
     "data": {
      "text/html": [
       "<div>\n",
       "<style scoped>\n",
       "    .dataframe tbody tr th:only-of-type {\n",
       "        vertical-align: middle;\n",
       "    }\n",
       "\n",
       "    .dataframe tbody tr th {\n",
       "        vertical-align: top;\n",
       "    }\n",
       "\n",
       "    .dataframe thead th {\n",
       "        text-align: right;\n",
       "    }\n",
       "</style>\n",
       "<table border=\"1\" class=\"dataframe\">\n",
       "  <thead>\n",
       "    <tr style=\"text-align: right;\">\n",
       "      <th></th>\n",
       "      <th>Model</th>\n",
       "      <th>Gear type</th>\n",
       "      <th>Effort-20-80</th>\n",
       "      <th>Gear-20-80</th>\n",
       "      <th>Dissip.</th>\n",
       "      <th>pct-20-80</th>\n",
       "      <th>Result-20-80</th>\n",
       "    </tr>\n",
       "  </thead>\n",
       "  <tbody>\n",
       "    <tr>\n",
       "      <th>0</th>\n",
       "      <td>Soldo 2019-Pravin 2016</td>\n",
       "      <td>Seiners</td>\n",
       "      <td>0.135--1.97</td>\n",
       "      <td>15.2--175</td>\n",
       "      <td>G</td>\n",
       "      <td>2.29--6.67</td>\n",
       "      <td>0.441--1.8</td>\n",
       "    </tr>\n",
       "    <tr>\n",
       "      <th>1</th>\n",
       "      <td>Soldo 2019-Pravin 2016</td>\n",
       "      <td>Seiners</td>\n",
       "      <td>0.132--1.97</td>\n",
       "      <td>14.6--173</td>\n",
       "      <td>D</td>\n",
       "      <td>0.449--1.98</td>\n",
       "      <td>0.0902--0.493</td>\n",
       "    </tr>\n",
       "    <tr>\n",
       "      <th>2</th>\n",
       "      <td>Soldo 2019-Laissane 2011</td>\n",
       "      <td>Seiners</td>\n",
       "      <td>0.109--0.178</td>\n",
       "      <td>10.8--15.9</td>\n",
       "      <td>G</td>\n",
       "      <td>2.28--6.65</td>\n",
       "      <td>0.0387--0.138</td>\n",
       "    </tr>\n",
       "    <tr>\n",
       "      <th>3</th>\n",
       "      <td>Soldo 2019-Laissane 2011</td>\n",
       "      <td>Seiners</td>\n",
       "      <td>0.105--0.176</td>\n",
       "      <td>10.8--16</td>\n",
       "      <td>D</td>\n",
       "      <td>0.499--1.95</td>\n",
       "      <td>0.00747--0.0363</td>\n",
       "    </tr>\n",
       "    <tr>\n",
       "      <th>4</th>\n",
       "      <td>LCI Model-Losa 2018</td>\n",
       "      <td>Seiners</td>\n",
       "      <td>1--1</td>\n",
       "      <td>9.61--13</td>\n",
       "      <td>G</td>\n",
       "      <td>2.26--6.68</td>\n",
       "      <td>0.249--0.773</td>\n",
       "    </tr>\n",
       "    <tr>\n",
       "      <th>5</th>\n",
       "      <td>LCI Model-Losa 2018</td>\n",
       "      <td>Seiners</td>\n",
       "      <td>1--1</td>\n",
       "      <td>9.68--13</td>\n",
       "      <td>D</td>\n",
       "      <td>0.476--1.94</td>\n",
       "      <td>0.0529--0.216</td>\n",
       "    </tr>\n",
       "    <tr>\n",
       "      <th>6</th>\n",
       "      <td>LCI Model-Avadi 2014</td>\n",
       "      <td>Seiners</td>\n",
       "      <td>1--1</td>\n",
       "      <td>0.071--0.536</td>\n",
       "      <td>G</td>\n",
       "      <td>2.28--6.67</td>\n",
       "      <td>0.00463--0.0202</td>\n",
       "    </tr>\n",
       "    <tr>\n",
       "      <th>7</th>\n",
       "      <td>LCI Model-Avadi 2014</td>\n",
       "      <td>Seiners</td>\n",
       "      <td>1--1</td>\n",
       "      <td>0.0709--0.535</td>\n",
       "      <td>D</td>\n",
       "      <td>0.442--1.96</td>\n",
       "      <td>0.000853--0.00602</td>\n",
       "    </tr>\n",
       "    <tr>\n",
       "      <th>8</th>\n",
       "      <td>Watanabe 2016-Sala 2019</td>\n",
       "      <td>Trawlers</td>\n",
       "      <td>0.391--5.55</td>\n",
       "      <td>0.319--3.17</td>\n",
       "      <td>G</td>\n",
       "      <td>6.85--17.9</td>\n",
       "      <td>0.0898--0.323</td>\n",
       "    </tr>\n",
       "    <tr>\n",
       "      <th>9</th>\n",
       "      <td>Watanabe 2016-Sala 2019</td>\n",
       "      <td>Trawlers</td>\n",
       "      <td>0.387--5.53</td>\n",
       "      <td>0.314--3.21</td>\n",
       "      <td>D</td>\n",
       "      <td>2.38--3.82</td>\n",
       "      <td>0.0226--0.0828</td>\n",
       "    </tr>\n",
       "    <tr>\n",
       "      <th>10</th>\n",
       "      <td>Watanabe 2016</td>\n",
       "      <td>Trawlers</td>\n",
       "      <td>0.355--0.455</td>\n",
       "      <td>549--653</td>\n",
       "      <td>G</td>\n",
       "      <td>6.89--17.9</td>\n",
       "      <td>16.1--44.3</td>\n",
       "    </tr>\n",
       "    <tr>\n",
       "      <th>11</th>\n",
       "      <td>Watanabe 2016</td>\n",
       "      <td>Trawlers</td>\n",
       "      <td>0.36--0.455</td>\n",
       "      <td>548--653</td>\n",
       "      <td>D</td>\n",
       "      <td>2.41--3.88</td>\n",
       "      <td>5.55--9.24</td>\n",
       "    </tr>\n",
       "    <tr>\n",
       "      <th>12</th>\n",
       "      <td>Grimaldo 2019</td>\n",
       "      <td>Passive</td>\n",
       "      <td>1.42--7.6</td>\n",
       "      <td>0.00943--0.0106</td>\n",
       "      <td>G</td>\n",
       "      <td>8--8.8</td>\n",
       "      <td>0.00125--0.00721</td>\n",
       "    </tr>\n",
       "    <tr>\n",
       "      <th>13</th>\n",
       "      <td>Grimaldo 2019</td>\n",
       "      <td>Passive</td>\n",
       "      <td>1.62--8.72</td>\n",
       "      <td>0.00942--0.0106</td>\n",
       "      <td>D</td>\n",
       "      <td>0.822--1.18</td>\n",
       "      <td>0.000147--0.00085</td>\n",
       "    </tr>\n",
       "    <tr>\n",
       "      <th>14</th>\n",
       "      <td>Gabr 2012</td>\n",
       "      <td>Passive</td>\n",
       "      <td>0.0289--0.0636</td>\n",
       "      <td>0.0192--0.0209</td>\n",
       "      <td>G</td>\n",
       "      <td>0.482--1.06</td>\n",
       "      <td>3.02e-06--1.07e-05</td>\n",
       "    </tr>\n",
       "    <tr>\n",
       "      <th>15</th>\n",
       "      <td>Gabr 2012</td>\n",
       "      <td>Passive</td>\n",
       "      <td>0.0296--0.0643</td>\n",
       "      <td>0.0192--0.0209</td>\n",
       "      <td>D</td>\n",
       "      <td>3.89--4.94</td>\n",
       "      <td>2.41e-05--5.65e-05</td>\n",
       "    </tr>\n",
       "    <tr>\n",
       "      <th>16</th>\n",
       "      <td>Akyol 2012</td>\n",
       "      <td>Passive</td>\n",
       "      <td>8.28e-05--0.000101</td>\n",
       "      <td>27.3--47.4</td>\n",
       "      <td>G</td>\n",
       "      <td>2.95--3.25</td>\n",
       "      <td>7.52e-05--0.000132</td>\n",
       "    </tr>\n",
       "    <tr>\n",
       "      <th>17</th>\n",
       "      <td>Akyol 2012</td>\n",
       "      <td>Passive</td>\n",
       "      <td>8.37e-05--0.000101</td>\n",
       "      <td>27.4--47.7</td>\n",
       "      <td>D</td>\n",
       "      <td>0.824--1.19</td>\n",
       "      <td>2.29e-05--4.46e-05</td>\n",
       "    </tr>\n",
       "  </tbody>\n",
       "</table>\n",
       "</div>"
      ],
      "text/plain": [
       "                       Model Gear type        Effort-20-80       Gear-20-80  \\\n",
       "0     Soldo 2019-Pravin 2016   Seiners         0.135--1.97        15.2--175   \n",
       "1     Soldo 2019-Pravin 2016   Seiners         0.132--1.97        14.6--173   \n",
       "2   Soldo 2019-Laissane 2011   Seiners        0.109--0.178       10.8--15.9   \n",
       "3   Soldo 2019-Laissane 2011   Seiners        0.105--0.176         10.8--16   \n",
       "4        LCI Model-Losa 2018   Seiners                1--1         9.61--13   \n",
       "5        LCI Model-Losa 2018   Seiners                1--1         9.68--13   \n",
       "6       LCI Model-Avadi 2014   Seiners                1--1     0.071--0.536   \n",
       "7       LCI Model-Avadi 2014   Seiners                1--1    0.0709--0.535   \n",
       "8    Watanabe 2016-Sala 2019  Trawlers         0.391--5.55      0.319--3.17   \n",
       "9    Watanabe 2016-Sala 2019  Trawlers         0.387--5.53      0.314--3.21   \n",
       "10             Watanabe 2016  Trawlers        0.355--0.455         549--653   \n",
       "11             Watanabe 2016  Trawlers         0.36--0.455         548--653   \n",
       "12             Grimaldo 2019   Passive           1.42--7.6  0.00943--0.0106   \n",
       "13             Grimaldo 2019   Passive          1.62--8.72  0.00942--0.0106   \n",
       "14                 Gabr 2012   Passive      0.0289--0.0636   0.0192--0.0209   \n",
       "15                 Gabr 2012   Passive      0.0296--0.0643   0.0192--0.0209   \n",
       "16                Akyol 2012   Passive  8.28e-05--0.000101       27.3--47.4   \n",
       "17                Akyol 2012   Passive  8.37e-05--0.000101       27.4--47.7   \n",
       "\n",
       "   Dissip.    pct-20-80        Result-20-80  \n",
       "0        G   2.29--6.67          0.441--1.8  \n",
       "1        D  0.449--1.98       0.0902--0.493  \n",
       "2        G   2.28--6.65       0.0387--0.138  \n",
       "3        D  0.499--1.95     0.00747--0.0363  \n",
       "4        G   2.26--6.68        0.249--0.773  \n",
       "5        D  0.476--1.94       0.0529--0.216  \n",
       "6        G   2.28--6.67     0.00463--0.0202  \n",
       "7        D  0.442--1.96   0.000853--0.00602  \n",
       "8        G   6.85--17.9       0.0898--0.323  \n",
       "9        D   2.38--3.82      0.0226--0.0828  \n",
       "10       G   6.89--17.9          16.1--44.3  \n",
       "11       D   2.41--3.88          5.55--9.24  \n",
       "12       G       8--8.8    0.00125--0.00721  \n",
       "13       D  0.822--1.18   0.000147--0.00085  \n",
       "14       G  0.482--1.06  3.02e-06--1.07e-05  \n",
       "15       D   3.89--4.94  2.41e-05--5.65e-05  \n",
       "16       G   2.95--3.25  7.52e-05--0.000132  \n",
       "17       D  0.824--1.19  2.29e-05--4.46e-05  "
      ]
     },
     "execution_count": 21,
     "metadata": {},
     "output_type": "execute_result"
    }
   ],
   "source": [
    "table_2"
   ]
  },
  {
   "cell_type": "code",
   "execution_count": 22,
   "metadata": {},
   "outputs": [
    {
     "name": "stdout",
     "output_type": "stream",
     "text": [
      "\\begin{tabular}{lllllll}\n",
      "\\toprule\n",
      "                    Model & Gear type &        Effort-20-80 &       Gear-20-80 & Dissip. &    pct-20-80 &        Result-20-80 \\\\\n",
      "\\midrule\n",
      "   Soldo 2019-Pravin 2016 &   Seiners &         0.135--1.97 &        15.2--175 &       G &   2.29--6.67 &          0.441--1.8 \\\\\n",
      "   Soldo 2019-Pravin 2016 &   Seiners &         0.132--1.97 &        14.6--173 &       D &  0.449--1.98 &       0.0902--0.493 \\\\\n",
      " Soldo 2019-Laissane 2011 &   Seiners &        0.109--0.178 &       10.8--15.9 &       G &   2.28--6.65 &       0.0387--0.138 \\\\\n",
      " Soldo 2019-Laissane 2011 &   Seiners &        0.105--0.176 &         10.8--16 &       D &  0.499--1.95 &     0.00747--0.0363 \\\\\n",
      "      LCI Model-Losa 2018 &   Seiners &                1--1 &         9.61--13 &       G &   2.26--6.68 &        0.249--0.773 \\\\\n",
      "      LCI Model-Losa 2018 &   Seiners &                1--1 &         9.68--13 &       D &  0.476--1.94 &       0.0529--0.216 \\\\\n",
      "     LCI Model-Avadi 2014 &   Seiners &                1--1 &     0.071--0.536 &       G &   2.28--6.67 &     0.00463--0.0202 \\\\\n",
      "     LCI Model-Avadi 2014 &   Seiners &                1--1 &    0.0709--0.535 &       D &  0.442--1.96 &   0.000853--0.00602 \\\\\n",
      "  Watanabe 2016-Sala 2019 &  Trawlers &         0.391--5.55 &      0.319--3.17 &       G &   6.85--17.9 &       0.0898--0.323 \\\\\n",
      "  Watanabe 2016-Sala 2019 &  Trawlers &         0.387--5.53 &      0.314--3.21 &       D &   2.38--3.82 &      0.0226--0.0828 \\\\\n",
      "            Watanabe 2016 &  Trawlers &        0.355--0.455 &         549--653 &       G &   6.89--17.9 &          16.1--44.3 \\\\\n",
      "            Watanabe 2016 &  Trawlers &         0.36--0.455 &         548--653 &       D &   2.41--3.88 &          5.55--9.24 \\\\\n",
      "            Grimaldo 2019 &   Passive &           1.42--7.6 &  0.00943--0.0106 &       G &       8--8.8 &    0.00125--0.00721 \\\\\n",
      "            Grimaldo 2019 &   Passive &          1.62--8.72 &  0.00942--0.0106 &       D &  0.822--1.18 &   0.000147--0.00085 \\\\\n",
      "                Gabr 2012 &   Passive &      0.0289--0.0636 &   0.0192--0.0209 &       G &  0.482--1.06 &  3.02e-06--1.07e-05 \\\\\n",
      "                Gabr 2012 &   Passive &      0.0296--0.0643 &   0.0192--0.0209 &       D &   3.89--4.94 &  2.41e-05--5.65e-05 \\\\\n",
      "               Akyol 2012 &   Passive &  8.28e-05--0.000101 &       27.3--47.4 &       G &   2.95--3.25 &  7.52e-05--0.000132 \\\\\n",
      "               Akyol 2012 &   Passive &  8.37e-05--0.000101 &       27.4--47.7 &       D &  0.824--1.19 &  2.29e-05--4.46e-05 \\\\\n",
      "\\bottomrule\n",
      "\\end{tabular}\n",
      "\n"
     ]
    }
   ],
   "source": [
    "print(table_2.to_latex(index=False))"
   ]
  },
  {
   "cell_type": "markdown",
   "metadata": {},
   "source": [
    "# Cruft\n"
   ]
  },
  {
   "cell_type": "code",
   "execution_count": 25,
   "metadata": {},
   "outputs": [
    {
     "data": {
      "text/plain": [
       "{'catch': <gear_models.quantities.QuantityGroup at 0x7fbdcced4430>,\n",
       " 'scaling': <gear_models.quantities.QuantityGroup at 0x7fbdcced4dc0>,\n",
       " 'operation': <gear_models.quantities.QuantityGroup at 0x7fbd8af77070>}"
      ]
     },
     "execution_count": 25,
     "metadata": {},
     "output_type": "execute_result"
    }
   ],
   "source": [
    "gml._q"
   ]
  },
  {
   "cell_type": "code",
   "execution_count": 35,
   "metadata": {},
   "outputs": [],
   "source": [
    "qs = list(t for k,v in gml._q.items() for t in v.entries)"
   ]
  },
  {
   "cell_type": "code",
   "execution_count": 39,
   "metadata": {},
   "outputs": [
    {
     "name": "stdout",
     "output_type": "stream",
     "text": [
      "    catch,                                  One tonne capture, tC\n",
      "    catch,                             One tonne landed catch, t\n",
      "  scaling,                       Effort for one tonne capture, t-eff\n",
      "  scaling,                  Effort for one tonne landed catch, t-eff\n",
      "  scaling,                                    Enclosed volume, m3\n",
      "  scaling,                            Gross Tonnage of vessel, GT\n",
      "  scaling,                        Kilowatt of engine capacity, kW\n",
      "  scaling,                                     Length of line, m-line\n",
      "  scaling,                                    Number of hooks, hooks\n",
      "  scaling,                                Square meter of net, m2\n",
      "  scaling,                            Vessel length in meters, m\n",
      "  scaling,                                   kilometer of net, km\n",
      "operation,                                   Catch life cycle, vlc\n",
      "operation,                                   Day of operation, d\n",
      "operation,                                        Fishing day, df\n",
      "operation,                                       Fishing hour, hf\n",
      "operation,                                      Gear lifetime, glt\n",
      "operation,                                           Gear set, set\n",
      "operation,                                  Hour of operation, h\n",
      "operation,                                  Vessel life cycle, vlt\n",
      "operation,                                  Year of operation, yr\n"
     ]
    }
   ],
   "source": [
    "for q in qs:\n",
    "    print('%9s, %50s, %s' % (q.measure, q, q.unit))"
   ]
  },
  {
   "cell_type": "code",
   "execution_count": 54,
   "metadata": {},
   "outputs": [],
   "source": [
    "listed_comps = list(set(k for k in gml.gear_models()).union(set(k for k in gml.effort_models()).union(set(k for k in gml.dissipation_models()))))"
   ]
  },
  {
   "cell_type": "code",
   "execution_count": 59,
   "metadata": {},
   "outputs": [
    {
     "name": "stdout",
     "output_type": "stream",
     "text": [
      "source_name: Eco-efficiency assessment of the Peruvian anchoveta steel and wooden fleets using the LCA+DEA framework\n",
      "source_doi: 10.1016/j.jclepro.2014.01.047\n",
      "source_documentation: See also Freon et al 2014 [10.1007/s11367-014-0716-3]\n",
      "Peru Anchoveta - Purse Seine LCI\n",
      "Hand-writing JSON is not fun.\n",
      "Scale by vessel capacity:\n",
      "small: <10m3\n",
      "medium: 27-32.6m3\n",
      "vikingas: 50-100m3\n",
      "industrial: 155-635\n",
      "Note that Freon et al [10.1007/s11367-014-0716-3] is used for industrial vessels per author communication\n"
     ]
    }
   ],
   "source": [
    "print(listed_comps[0].doc)"
   ]
  },
  {
   "cell_type": "code",
   "execution_count": 61,
   "metadata": {},
   "outputs": [
    {
     "name": "stdout",
     "output_type": "stream",
     "text": [
      "Akyol 2012\n",
      "Avadi 2014\n",
      "Deshpande 2020\n",
      "Gabr 2012\n",
      "Gilman 2020-pre\n",
      "Grimaldo 2019\n",
      "Hoffman 2009\n",
      "LCI Model\n",
      "Laissane 2011\n",
      "Losa 2018\n",
      "Pravin 2016\n",
      "Sala 2019\n",
      "Soldo 2019\n",
      "Watanabe 2016\n"
     ]
    }
   ],
   "source": [
    "for f in sorted(set((k.family for k in listed_comps)):\n",
    "    print(f)"
   ]
  }
 ],
 "metadata": {
  "kernelspec": {
   "display_name": "tnc-gear",
   "language": "python",
   "name": "tnc-gear"
  },
  "language_info": {
   "codemirror_mode": {
    "name": "ipython",
    "version": 3
   },
   "file_extension": ".py",
   "mimetype": "text/x-python",
   "name": "python",
   "nbconvert_exporter": "python",
   "pygments_lexer": "ipython3",
   "version": "3.8.3"
  }
 },
 "nbformat": 4,
 "nbformat_minor": 4
}
